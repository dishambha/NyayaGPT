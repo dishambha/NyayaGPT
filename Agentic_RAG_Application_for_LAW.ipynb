{
  "nbformat": 4,
  "nbformat_minor": 0,
  "metadata": {
    "colab": {
      "provenance": [],
      "authorship_tag": "ABX9TyNtgD8GfsbjfWCb5DcKx0NO",
      "include_colab_link": true
    },
    "kernelspec": {
      "name": "python3",
      "display_name": "Python 3"
    },
    "language_info": {
      "name": "python"
    }
  },
  "cells": [
    {
      "cell_type": "markdown",
      "metadata": {
        "id": "view-in-github",
        "colab_type": "text"
      },
      "source": [
        "<a href=\"https://colab.research.google.com/github/dishambha/NyayaGPT/blob/main/Agentic_RAG_Application_for_LAW.ipynb\" target=\"_parent\"><img src=\"https://colab.research.google.com/assets/colab-badge.svg\" alt=\"Open In Colab\"/></a>"
      ]
    },
    {
      "cell_type": "code",
      "execution_count": null,
      "metadata": {
        "id": "nMI6M1Igp7a8"
      },
      "outputs": [],
      "source": [
        "!pip install langchain langchain-openai langchain-community pypdf faiss-cpu sentence-transformers"
      ]
    },
    {
      "cell_type": "code",
      "source": [
        "!pip install langchain-groq\n"
      ],
      "metadata": {
        "id": "J_wFNupjsn65"
      },
      "execution_count": null,
      "outputs": []
    },
    {
      "cell_type": "code",
      "source": [
        "!pip install sentence-transformers"
      ],
      "metadata": {
        "colab": {
          "base_uri": "https://localhost:8080/"
        },
        "id": "4DYLtVUGvimU",
        "outputId": "a12b382f-f966-4264-bb75-9337e0682d19"
      },
      "execution_count": 27,
      "outputs": [
        {
          "output_type": "stream",
          "name": "stdout",
          "text": [
            "Requirement already satisfied: sentence-transformers in /usr/local/lib/python3.11/dist-packages (4.1.0)\n",
            "Requirement already satisfied: transformers<5.0.0,>=4.41.0 in /usr/local/lib/python3.11/dist-packages (from sentence-transformers) (4.54.1)\n",
            "Requirement already satisfied: tqdm in /usr/local/lib/python3.11/dist-packages (from sentence-transformers) (4.67.1)\n",
            "Requirement already satisfied: torch>=1.11.0 in /usr/local/lib/python3.11/dist-packages (from sentence-transformers) (2.6.0+cu124)\n",
            "Requirement already satisfied: scikit-learn in /usr/local/lib/python3.11/dist-packages (from sentence-transformers) (1.6.1)\n",
            "Requirement already satisfied: scipy in /usr/local/lib/python3.11/dist-packages (from sentence-transformers) (1.16.1)\n",
            "Requirement already satisfied: huggingface-hub>=0.20.0 in /usr/local/lib/python3.11/dist-packages (from sentence-transformers) (0.34.3)\n",
            "Requirement already satisfied: Pillow in /usr/local/lib/python3.11/dist-packages (from sentence-transformers) (11.3.0)\n",
            "Requirement already satisfied: typing_extensions>=4.5.0 in /usr/local/lib/python3.11/dist-packages (from sentence-transformers) (4.14.1)\n",
            "Requirement already satisfied: filelock in /usr/local/lib/python3.11/dist-packages (from huggingface-hub>=0.20.0->sentence-transformers) (3.18.0)\n",
            "Requirement already satisfied: fsspec>=2023.5.0 in /usr/local/lib/python3.11/dist-packages (from huggingface-hub>=0.20.0->sentence-transformers) (2025.3.0)\n",
            "Requirement already satisfied: packaging>=20.9 in /usr/local/lib/python3.11/dist-packages (from huggingface-hub>=0.20.0->sentence-transformers) (25.0)\n",
            "Requirement already satisfied: pyyaml>=5.1 in /usr/local/lib/python3.11/dist-packages (from huggingface-hub>=0.20.0->sentence-transformers) (6.0.2)\n",
            "Requirement already satisfied: requests in /usr/local/lib/python3.11/dist-packages (from huggingface-hub>=0.20.0->sentence-transformers) (2.32.3)\n",
            "Requirement already satisfied: hf-xet<2.0.0,>=1.1.3 in /usr/local/lib/python3.11/dist-packages (from huggingface-hub>=0.20.0->sentence-transformers) (1.1.5)\n",
            "Requirement already satisfied: networkx in /usr/local/lib/python3.11/dist-packages (from torch>=1.11.0->sentence-transformers) (3.5)\n",
            "Requirement already satisfied: jinja2 in /usr/local/lib/python3.11/dist-packages (from torch>=1.11.0->sentence-transformers) (3.1.6)\n",
            "Requirement already satisfied: nvidia-cuda-nvrtc-cu12==12.4.127 in /usr/local/lib/python3.11/dist-packages (from torch>=1.11.0->sentence-transformers) (12.4.127)\n",
            "Requirement already satisfied: nvidia-cuda-runtime-cu12==12.4.127 in /usr/local/lib/python3.11/dist-packages (from torch>=1.11.0->sentence-transformers) (12.4.127)\n",
            "Requirement already satisfied: nvidia-cuda-cupti-cu12==12.4.127 in /usr/local/lib/python3.11/dist-packages (from torch>=1.11.0->sentence-transformers) (12.4.127)\n",
            "Requirement already satisfied: nvidia-cudnn-cu12==9.1.0.70 in /usr/local/lib/python3.11/dist-packages (from torch>=1.11.0->sentence-transformers) (9.1.0.70)\n",
            "Requirement already satisfied: nvidia-cublas-cu12==12.4.5.8 in /usr/local/lib/python3.11/dist-packages (from torch>=1.11.0->sentence-transformers) (12.4.5.8)\n",
            "Requirement already satisfied: nvidia-cufft-cu12==11.2.1.3 in /usr/local/lib/python3.11/dist-packages (from torch>=1.11.0->sentence-transformers) (11.2.1.3)\n",
            "Requirement already satisfied: nvidia-curand-cu12==10.3.5.147 in /usr/local/lib/python3.11/dist-packages (from torch>=1.11.0->sentence-transformers) (10.3.5.147)\n",
            "Requirement already satisfied: nvidia-cusolver-cu12==11.6.1.9 in /usr/local/lib/python3.11/dist-packages (from torch>=1.11.0->sentence-transformers) (11.6.1.9)\n",
            "Requirement already satisfied: nvidia-cusparse-cu12==12.3.1.170 in /usr/local/lib/python3.11/dist-packages (from torch>=1.11.0->sentence-transformers) (12.3.1.170)\n",
            "Requirement already satisfied: nvidia-cusparselt-cu12==0.6.2 in /usr/local/lib/python3.11/dist-packages (from torch>=1.11.0->sentence-transformers) (0.6.2)\n",
            "Requirement already satisfied: nvidia-nccl-cu12==2.21.5 in /usr/local/lib/python3.11/dist-packages (from torch>=1.11.0->sentence-transformers) (2.21.5)\n",
            "Requirement already satisfied: nvidia-nvtx-cu12==12.4.127 in /usr/local/lib/python3.11/dist-packages (from torch>=1.11.0->sentence-transformers) (12.4.127)\n",
            "Requirement already satisfied: nvidia-nvjitlink-cu12==12.4.127 in /usr/local/lib/python3.11/dist-packages (from torch>=1.11.0->sentence-transformers) (12.4.127)\n",
            "Requirement already satisfied: triton==3.2.0 in /usr/local/lib/python3.11/dist-packages (from torch>=1.11.0->sentence-transformers) (3.2.0)\n",
            "Requirement already satisfied: sympy==1.13.1 in /usr/local/lib/python3.11/dist-packages (from torch>=1.11.0->sentence-transformers) (1.13.1)\n",
            "Requirement already satisfied: mpmath<1.4,>=1.1.0 in /usr/local/lib/python3.11/dist-packages (from sympy==1.13.1->torch>=1.11.0->sentence-transformers) (1.3.0)\n",
            "Requirement already satisfied: numpy>=1.17 in /usr/local/lib/python3.11/dist-packages (from transformers<5.0.0,>=4.41.0->sentence-transformers) (2.0.2)\n",
            "Requirement already satisfied: regex!=2019.12.17 in /usr/local/lib/python3.11/dist-packages (from transformers<5.0.0,>=4.41.0->sentence-transformers) (2024.11.6)\n",
            "Requirement already satisfied: tokenizers<0.22,>=0.21 in /usr/local/lib/python3.11/dist-packages (from transformers<5.0.0,>=4.41.0->sentence-transformers) (0.21.4)\n",
            "Requirement already satisfied: safetensors>=0.4.3 in /usr/local/lib/python3.11/dist-packages (from transformers<5.0.0,>=4.41.0->sentence-transformers) (0.5.3)\n",
            "Requirement already satisfied: joblib>=1.2.0 in /usr/local/lib/python3.11/dist-packages (from scikit-learn->sentence-transformers) (1.5.1)\n",
            "Requirement already satisfied: threadpoolctl>=3.1.0 in /usr/local/lib/python3.11/dist-packages (from scikit-learn->sentence-transformers) (3.6.0)\n",
            "Requirement already satisfied: MarkupSafe>=2.0 in /usr/local/lib/python3.11/dist-packages (from jinja2->torch>=1.11.0->sentence-transformers) (3.0.2)\n",
            "Requirement already satisfied: charset-normalizer<4,>=2 in /usr/local/lib/python3.11/dist-packages (from requests->huggingface-hub>=0.20.0->sentence-transformers) (3.4.2)\n",
            "Requirement already satisfied: idna<4,>=2.5 in /usr/local/lib/python3.11/dist-packages (from requests->huggingface-hub>=0.20.0->sentence-transformers) (3.10)\n",
            "Requirement already satisfied: urllib3<3,>=1.21.1 in /usr/local/lib/python3.11/dist-packages (from requests->huggingface-hub>=0.20.0->sentence-transformers) (2.5.0)\n",
            "Requirement already satisfied: certifi>=2017.4.17 in /usr/local/lib/python3.11/dist-packages (from requests->huggingface-hub>=0.20.0->sentence-transformers) (2025.7.14)\n"
          ]
        }
      ]
    },
    {
      "cell_type": "markdown",
      "source": [
        "# Part 1: Importing Necessary Libraries\n",
        "# ----------------------------------------------------------------\n"
      ],
      "metadata": {
        "id": "n2pgbs-Dxpx0"
      }
    },
    {
      "cell_type": "code",
      "source": [
        "# ==============================================================================\n",
        "# Corrected Part 1: Importing All Necessary Libraries\n",
        "# ==============================================================================\n",
        "\n",
        "import os\n",
        "from google.colab import userdata # For securely handling API keys in Colab\n",
        "\n",
        "# For loading and preparing your documents\n",
        "from langchain_community.document_loaders import PyPDFLoader\n",
        "from langchain.text_splitter import RecursiveCharacterTextSplitter\n",
        "\n",
        "# For the vector database and the free embedding model\n",
        "from langchain_community.vectorstores import FAISS\n",
        "from langchain_community.embeddings import HuggingFaceEmbeddings\n",
        "\n",
        "# For the Groq LLM which will be the agent's \"brain\"\n",
        "from langchain_groq import ChatGroq\n",
        "\n",
        "# For building the agent and its tools\n",
        "from langchain.tools.retriever import create_retriever_tool\n",
        "from langchain import hub\n",
        "from langchain.agents import create_react_agent, AgentExecutor\n",
        "\n",
        "# For managing the conversation's memory\n",
        "from langchain_core.messages import HumanMessage, AIMessage"
      ],
      "metadata": {
        "id": "zVDAppOQriYN"
      },
      "execution_count": 39,
      "outputs": []
    },
    {
      "cell_type": "markdown",
      "source": [
        "# Part 2 (Updated for Groq): API Key and Configuration"
      ],
      "metadata": {
        "id": "5AhBEA8Hx3SY"
      }
    },
    {
      "cell_type": "code",
      "source": [
        "\n",
        "# ----------------------------------------------------\n",
        "\n",
        "# This line now retrieves the API key named 'GROQ_API_KEY' which you must create in Colab's Secrets Manager (🔑).\n",
        "# It's a secure way to handle keys without hard-coding them.\n",
        "# Make sure to enable 'Notebook access' for the secret.\n",
        "from google.colab import userdata\n",
        "import os\n",
        "\n",
        "os.environ[\"GROQ_API_KEY\"] = userdata.get('GROQ_API_KEY')"
      ],
      "metadata": {
        "id": "8mdiIM75rzLt"
      },
      "execution_count": 29,
      "outputs": []
    },
    {
      "cell_type": "markdown",
      "source": [
        "# Part 3: The Reusable \"Factory\" Function for Tool Creation"
      ],
      "metadata": {
        "id": "gRdCQjV_x8so"
      }
    },
    {
      "cell_type": "code",
      "source": [
        "# Add this new import statement at the top of your script\n",
        "from langchain_community.embeddings import HuggingFaceEmbeddings\n",
        "\n",
        "# This is the corrected function\n",
        "def create_pdf_retriever_tool(pdf_path, tool_name, tool_description):\n",
        "    \"\"\"This function now uses a free Hugging Face model for embeddings.\"\"\"\n",
        "\n",
        "    # 1. Loading the document\n",
        "    loader = PyPDFLoader(pdf_path)\n",
        "    documents = loader.load()\n",
        "\n",
        "    # 2. Chunking the document\n",
        "    text_splitter = RecursiveCharacterTextSplitter(chunk_size=1000, chunk_overlap=150)\n",
        "    docs = text_splitter.split_documents(documents)\n",
        "\n",
        "    # 3. Creating Embeddings (THE CORRECTED PART)\n",
        "    # We replace the OpenAI line with this one to use a free model.\n",
        "    # The first time this runs, it will download the model (approx. 220MB).\n",
        "    embeddings_model = HuggingFaceEmbeddings(model_name=\"all-MiniLM-L6-v2\")\n",
        "\n",
        "    # The rest of the function works perfectly with the new model\n",
        "    vector_store = FAISS.from_documents(docs, embeddings_model)\n",
        "\n",
        "    # 4. Creating the Retriever\n",
        "    retriever = vector_store.as_retriever(search_kwargs={\"k\": 3})\n",
        "\n",
        "    # 5. Wrapping the retriever in a Tool\n",
        "    retriever_tool = create_retriever_tool(retriever, name=tool_name, description=tool_description)\n",
        "\n",
        "    print(f\"Tool '{tool_name}' for '{pdf_path}' created successfully with free embeddings.\")\n",
        "\n",
        "    return retriever_tool"
      ],
      "metadata": {
        "id": "Mqgyx-8NuCTH"
      },
      "execution_count": 30,
      "outputs": []
    },
    {
      "cell_type": "markdown",
      "source": [
        "# Part 4: Building Your Specific Tools"
      ],
      "metadata": {
        "id": "n4xdPM0cyI2U"
      }
    },
    {
      "cell_type": "code",
      "source": [
        "\n",
        "# ------------------------------------\n",
        "\n",
        "# Create the first tool for the BNS document.\n",
        "# We provide the file path, a simple name for the tool, and a detailed description of its purpose.\n",
        "bns_tool = create_pdf_retriever_tool(\n",
        "    pdf_path=\"BNS.pdf\", # Make sure this path matches your uploaded file name in Colab\n",
        "    tool_name=\"bns_law_search\",\n",
        "    tool_description=\"Use this tool to search for the definitions of crimes, punishments, and substantive criminal law as defined in the Bharatiya Nyaya Sanhita (BNS).\"\n",
        ")\n",
        "\n",
        "# Create the second tool for the BNSS document.\n",
        "# Notice the description is different, telling the agent this tool is for procedural law.\n",
        "bnss_tool = create_pdf_retriever_tool(\n",
        "    pdf_path=\"BNSS.pdf\", # Make sure this path matches your uploaded file name in Colab\n",
        "    tool_name=\"bnss_procedure_search\",\n",
        "    tool_description=\"Use this tool to search for legal procedures, rules for investigation, arrest, bail, and trial processes as defined in the Bharatiya Nagarik Suraksha Sanhita (BNSS).\"\n",
        ")"
      ],
      "metadata": {
        "colab": {
          "base_uri": "https://localhost:8080/"
        },
        "id": "jiHK0IlNukKs",
        "outputId": "9f7c2f99-d361-4641-b79b-a48db62f805e"
      },
      "execution_count": 32,
      "outputs": [
        {
          "output_type": "stream",
          "name": "stderr",
          "text": [
            "/usr/local/lib/python3.11/dist-packages/torch/nn/modules/module.py:1750: FutureWarning: `encoder_attention_mask` is deprecated and will be removed in version 4.55.0 for `BertSdpaSelfAttention.forward`.\n",
            "  return forward_call(*args, **kwargs)\n"
          ]
        },
        {
          "output_type": "stream",
          "name": "stdout",
          "text": [
            "Tool 'bns_law_search' for 'BNS.pdf' created successfully with free embeddings.\n",
            "Tool 'bnss_procedure_search' for 'BNSS.pdf' created successfully with free embeddings.\n"
          ]
        }
      ]
    },
    {
      "cell_type": "markdown",
      "source": [
        "# Part 5 (Updated for Groq): Creating the Agent and Executor"
      ],
      "metadata": {
        "id": "3R6mtnsLyMQs"
      }
    },
    {
      "cell_type": "code",
      "source": [
        "# Part 5 (Updated for Groq with a ReAct Agent): Creating the Agent and Executor\n",
        "# -----------------------------------------------------------------------------\n",
        "\n",
        "# --- Import the correct agent creation function ---\n",
        "# We are switching from 'create_openai_functions_agent' to the more general 'create_react_agent'\n",
        "from langchain.agents import create_react_agent, AgentExecutor\n",
        "from langchain_groq import ChatGroq\n",
        "from langchain import hub\n",
        "import os\n",
        "from langchain_core.messages import HumanMessage, AIMessage\n",
        "\n",
        "# Your API key setup and tools list remain the same\n",
        "# os.environ[\"GROQ_API_KEY\"] = ...\n",
        "tools = [bns_tool, bnss_tool]\n",
        "\n",
        "# --- Use a more compatible prompt template ---\n",
        "# We pull a prompt designed for the ReAct framework, which is more universal.\n",
        "prompt = hub.pull(\"hwchase17/react-chat\")\n",
        "\n",
        "# Initialize the Groq LLM as before\n",
        "llm = ChatGroq(model_name=\"llama3-70b-8192\", temperature=0)\n",
        "\n",
        "# --- Create the agent using the new function ---\n",
        "# This assembles the agent using the ReAct logic.\n",
        "agent = create_react_agent(llm, tools, prompt)\n",
        "\n",
        "# The AgentExecutor remains the same. It's the runtime for your agent.\n",
        "agent_executor = AgentExecutor(agent=agent, tools=tools, verbose=True)\n",
        "\n",
        "# Now, run your query again!\n",
        "# This setup is much more likely to make the Llama 3 model show its reasoning and use your tools.\n",
        "response = agent_executor.invoke({\n",
        "    \"input\": \"What is the punishment for assault under the BNS, and what is the procedure for filing a report according to the BNSS?\",\n",
        "    \"chat_history\": [] # Add this line to provide an empty chat history\n",
        "})\n",
        "\n",
        "print(\"\\n--- FINAL SYNTHESIZED ANSWER ---\")\n",
        "print(response[\"output\"])"
      ],
      "metadata": {
        "colab": {
          "base_uri": "https://localhost:8080/"
        },
        "id": "MngT4E6YweM1",
        "outputId": "dc7b37bd-6d41-4359-f334-9532b6ee7c1d"
      },
      "execution_count": 38,
      "outputs": [
        {
          "output_type": "stream",
          "name": "stderr",
          "text": [
            "/usr/local/lib/python3.11/dist-packages/langsmith/client.py:272: LangSmithMissingAPIKeyWarning: API key must be provided when using hosted LangSmith API\n",
            "  warnings.warn(\n"
          ]
        },
        {
          "output_type": "stream",
          "name": "stdout",
          "text": [
            "\n",
            "\n",
            "\u001b[1m> Entering new AgentExecutor chain...\u001b[0m\n",
            "\u001b[32;1m\u001b[1;3mThought: Do I need to use a tool? Yes\n",
            "Action: bns_law_search\n",
            "Action Input: What is the punishment for assault under the BNS\u001b[0m\u001b[36;1m\u001b[1;3mExplanation.—A threat to injure the reputation of any deceased person in whom the\n",
            "person threatened is interested, is within this section.\n",
            "Illustration.\n",
            "A, for the purpose of inducing B to resist from prosecuting a civil suit, threatens to\n",
            "burn B’s house. Ais guilty of criminal intimidation.\n",
            "(2) Whoever commits the offence of criminal intimidation shall be punished with\n",
            "imprisonment of either description for a term which may extend to two years, or with fine, or\n",
            "with both.\n",
            "(3) Whoever commits the offence of criminal intimidation by threatening to cause\n",
            "death or grievous hurt, or to cause the destruction of any property by fire, or to cause an\n",
            "offence punishable with death or imprisonment for life, or with imprisonment for a term which\n",
            "may extend to seven years, or to impute unchastity to a woman, shall be punished with\n",
            "imprisonment of either description for a term which may extend to seven years, or with fine,\n",
            "or with both.\n",
            "\n",
            "person, shall be punished with imprisonment of either description for a term which may\n",
            "extend to two years, or with fine, or with both.\n",
            "134.Whoever assaults or uses criminal force to any person, in attempting to commit\n",
            "theft on any property which that person is then wearing or carrying, shall be punished with\n",
            "imprisonment of either description for a term which may extend to two years, or with fine, or\n",
            "with both.\n",
            "135.Whoever assaults or uses criminal force to any person, in attempting wrongfully\n",
            "to confine that person, shall be punished with imprisonment of either description for a term\n",
            "which may extend to one year, or with fine which may extend to five thousand rupees, or with\n",
            "both.\n",
            "Punishment\n",
            "for assault or\n",
            "criminal force\n",
            "otherwise than\n",
            "on grave\n",
            "provocation.\n",
            "Assault or\n",
            "criminal force\n",
            "to deter public\n",
            "servant from\n",
            "discharge of\n",
            "his duty.\n",
            "Assault or\n",
            "criminal force\n",
            "with intent to\n",
            "dishonour\n",
            "person,\n",
            "otherwise than\n",
            "on grave\n",
            "provocation.\n",
            "Assault or\n",
            "criminal force\n",
            "in attempt to\n",
            "commit theft\n",
            "\n",
            "of private defence.\n",
            "Explanation 2.—Whether the provocation was grave and sudden enough to mitigate\n",
            "the offence, is a question of fact.\n",
            "132.Whoever assaults or uses criminal force to any person being a public servant in\n",
            "the execution of his duty as such public servant, or with intent to prevent or deter that\n",
            "person from discharging his duty as such public servant, or in consequence of anything\n",
            "done or attempted to be done by such person in the lawful discharge of his duty as such\n",
            "public servant, shall be punished with imprisonment of either description for a term which\n",
            "may extend to two years, or with fine, or with both.\n",
            "133.Whoever assaults or uses criminal force to any person, intending thereby to\n",
            "dishonour that person, otherwise than on grave and sudden provocation given by that\n",
            "person, shall be punished with imprisonment of either description for a term which may\n",
            "extend to two years, or with fine, or with both.\u001b[0m"
          ]
        },
        {
          "output_type": "stream",
          "name": "stderr",
          "text": [
            "/usr/local/lib/python3.11/dist-packages/torch/nn/modules/module.py:1750: FutureWarning: `encoder_attention_mask` is deprecated and will be removed in version 4.55.0 for `BertSdpaSelfAttention.forward`.\n",
            "  return forward_call(*args, **kwargs)\n"
          ]
        },
        {
          "output_type": "stream",
          "name": "stdout",
          "text": [
            "\u001b[32;1m\u001b[1;3mDo I need to use a tool? Yes\n",
            "Action: bnss_procedure_search\n",
            "Action Input: What is the procedure for filing a report according to the BNSS?\u001b[0m\u001b[33;1m\u001b[1;3many, which are to be produced in evidence;\n",
            "Supply to\n",
            "accused of\n",
            "copy of police\n",
            "report and\n",
            "other\n",
            "documents.\n",
            "Supply of\n",
            "copies of\n",
            "statements\n",
            "and documents\n",
            "to accused in\n",
            "other cases\n",
            "triable by\n",
            "Court of\n",
            "Session.\n",
            "Commitment\n",
            "of case to Court\n",
            "of Session when\n",
            "offence is\n",
            "triable\n",
            "exclusively by\n",
            "it.\n",
            "Sec. 1]\n",
            "THE GAZETTE OF INDIA EXTRAORDINARY\n",
            "75\n",
            "___________________________________________________________\n",
            "__________________________________________________________\n",
            "__________________________________________________________\n",
            "__________________________________________________________\n",
            "__________________________________________________________\n",
            "__________________________________________________________\n",
            "\n",
            "of Session.\n",
            "Language of\n",
            "record of\n",
            "evidence.\n",
            "Procedure in\n",
            "regard to such\n",
            "evidence when\n",
            "completed.\n",
            "Sec. 1]\n",
            "THE GAZETTE OF INDIA EXTRAORDINARY\n",
            "95\n",
            "___________________________________________________________\n",
            "__________________________________________________________\n",
            "__________________________________________________________\n",
            "__________________________________________________________\n",
            "__________________________________________________________\n",
            "__________________________________________________________\n",
            "\n",
            "in certain\n",
            "cases.\n",
            "Procedure\n",
            "when\n",
            "corporation or\n",
            "registered\n",
            "society is an\n",
            "accused.\n",
            "21 of 1860.\n",
            "102\n",
            "THE GAZETTE OF INDIA EXTRAORDINARY\n",
            "[Part II— \n",
            "___________________________________________________________\n",
            "__________________________________________________________\n",
            "__________________________________________________________\n",
            "__________________________________________________________\n",
            "__________________________________________________________\n",
            "__________________________________________________________\u001b[0m"
          ]
        },
        {
          "output_type": "stream",
          "name": "stderr",
          "text": [
            "/usr/local/lib/python3.11/dist-packages/torch/nn/modules/module.py:1750: FutureWarning: `encoder_attention_mask` is deprecated and will be removed in version 4.55.0 for `BertSdpaSelfAttention.forward`.\n",
            "  return forward_call(*args, **kwargs)\n"
          ]
        },
        {
          "output_type": "stream",
          "name": "stdout",
          "text": [
            "\u001b[32;1m\u001b[1;3mThought: Do I need to use a tool? No\n",
            "Final Answer: According to the BNS, the punishment for assault is imprisonment of either description for a term which may extend to two years, or with fine, or with both (Section 134). Additionally, if the assault is committed with intent to dishonour the person, the punishment is imprisonment of either description for a term which may extend to two years, or with fine, or with both (Section 133).\n",
            "\n",
            "As for the procedure for filing a report according to the BNSS, the relevant sections provide guidelines for the supply of copies of police reports and other documents to the accused, commitment of cases to the Court of Session, language of record of evidence, and procedure in regard to such evidence when completed. However, the specific procedure for filing a report is not explicitly stated in the provided text. It is recommended to consult the relevant sections of the BNSS for more information on the procedure for filing a report.\u001b[0m\n",
            "\n",
            "\u001b[1m> Finished chain.\u001b[0m\n",
            "\n",
            "--- FINAL SYNTHESIZED ANSWER ---\n",
            "According to the BNS, the punishment for assault is imprisonment of either description for a term which may extend to two years, or with fine, or with both (Section 134). Additionally, if the assault is committed with intent to dishonour the person, the punishment is imprisonment of either description for a term which may extend to two years, or with fine, or with both (Section 133).\n",
            "\n",
            "As for the procedure for filing a report according to the BNSS, the relevant sections provide guidelines for the supply of copies of police reports and other documents to the accused, commitment of cases to the Court of Session, language of record of evidence, and procedure in regard to such evidence when completed. However, the specific procedure for filing a report is not explicitly stated in the provided text. It is recommended to consult the relevant sections of the BNSS for more information on the procedure for filing a report.\n"
          ]
        }
      ]
    },
    {
      "cell_type": "markdown",
      "source": [
        "# Part 6: Running the Agent to Get a Final Output"
      ],
      "metadata": {
        "id": "WW0iYucnyPDd"
      }
    },
    {
      "cell_type": "code",
      "source": [
        "\n",
        "# ==============================================================================\n",
        "# Part 6 (Corrected): Running the Agent to Get a Final Output\n",
        "# ==============================================================================\n",
        "\n",
        "# Import message types needed to manage the conversation history\n",
        "from langchain_core.messages import HumanMessage, AIMessage\n",
        "\n",
        "# Create an empty list to hold the conversation history. This is the main fix.\n",
        "chat_history = []\n",
        "\n",
        "# Define your complex query\n",
        "query = \"What is the punishment for assault under the BNS, and what is the procedure for filing a report according to the BNSS?\"\n",
        "\n",
        "# Invoke the agent, now passing the 'input' AND the 'chat_history'\n",
        "# This dictionary now contains all the keys the prompt template expects.\n",
        "response = agent_executor.invoke({\n",
        "    \"input\": query,\n",
        "    \"chat_history\": chat_history\n",
        "})\n",
        "\n",
        "# Print the final answer from the agent\n",
        "print(\"\\n--- FINAL SYNTHESIZED ANSWER ---\")\n",
        "print(response[\"output\"])"
      ],
      "metadata": {
        "colab": {
          "base_uri": "https://localhost:8080/"
        },
        "id": "C_vhfxmqxdYF",
        "outputId": "dddba4b9-0cda-4718-f79d-181d266bb5fe"
      },
      "execution_count": 37,
      "outputs": [
        {
          "output_type": "stream",
          "name": "stdout",
          "text": [
            "\n",
            "\n",
            "\u001b[1m> Entering new AgentExecutor chain...\u001b[0m\n",
            "\u001b[32;1m\u001b[1;3mThought: Do I need to use a tool? Yes\n",
            "Action: bns_law_search\n",
            "Action Input: What is the punishment for assault under the BNS?\u001b[0m\u001b[36;1m\u001b[1;3mof private defence.\n",
            "Explanation 2.—Whether the provocation was grave and sudden enough to mitigate\n",
            "the offence, is a question of fact.\n",
            "132.Whoever assaults or uses criminal force to any person being a public servant in\n",
            "the execution of his duty as such public servant, or with intent to prevent or deter that\n",
            "person from discharging his duty as such public servant, or in consequence of anything\n",
            "done or attempted to be done by such person in the lawful discharge of his duty as such\n",
            "public servant, shall be punished with imprisonment of either description for a term which\n",
            "may extend to two years, or with fine, or with both.\n",
            "133.Whoever assaults or uses criminal force to any person, intending thereby to\n",
            "dishonour that person, otherwise than on grave and sudden provocation given by that\n",
            "person, shall be punished with imprisonment of either description for a term which may\n",
            "extend to two years, or with fine, or with both.\n",
            "\n",
            "person, shall be punished with imprisonment of either description for a term which may\n",
            "extend to two years, or with fine, or with both.\n",
            "134.Whoever assaults or uses criminal force to any person, in attempting to commit\n",
            "theft on any property which that person is then wearing or carrying, shall be punished with\n",
            "imprisonment of either description for a term which may extend to two years, or with fine, or\n",
            "with both.\n",
            "135.Whoever assaults or uses criminal force to any person, in attempting wrongfully\n",
            "to confine that person, shall be punished with imprisonment of either description for a term\n",
            "which may extend to one year, or with fine which may extend to five thousand rupees, or with\n",
            "both.\n",
            "Punishment\n",
            "for assault or\n",
            "criminal force\n",
            "otherwise than\n",
            "on grave\n",
            "provocation.\n",
            "Assault or\n",
            "criminal force\n",
            "to deter public\n",
            "servant from\n",
            "discharge of\n",
            "his duty.\n",
            "Assault or\n",
            "criminal force\n",
            "with intent to\n",
            "dishonour\n",
            "person,\n",
            "otherwise than\n",
            "on grave\n",
            "provocation.\n",
            "Assault or\n",
            "criminal force\n",
            "in attempt to\n",
            "commit theft\n",
            "\n",
            "Explanation.—A threat to injure the reputation of any deceased person in whom the\n",
            "person threatened is interested, is within this section.\n",
            "Illustration.\n",
            "A, for the purpose of inducing B to resist from prosecuting a civil suit, threatens to\n",
            "burn B’s house. Ais guilty of criminal intimidation.\n",
            "(2) Whoever commits the offence of criminal intimidation shall be punished with\n",
            "imprisonment of either description for a term which may extend to two years, or with fine, or\n",
            "with both.\n",
            "(3) Whoever commits the offence of criminal intimidation by threatening to cause\n",
            "death or grievous hurt, or to cause the destruction of any property by fire, or to cause an\n",
            "offence punishable with death or imprisonment for life, or with imprisonment for a term which\n",
            "may extend to seven years, or to impute unchastity to a woman, shall be punished with\n",
            "imprisonment of either description for a term which may extend to seven years, or with fine,\n",
            "or with both.\u001b[0m"
          ]
        },
        {
          "output_type": "stream",
          "name": "stderr",
          "text": [
            "/usr/local/lib/python3.11/dist-packages/torch/nn/modules/module.py:1750: FutureWarning: `encoder_attention_mask` is deprecated and will be removed in version 4.55.0 for `BertSdpaSelfAttention.forward`.\n",
            "  return forward_call(*args, **kwargs)\n"
          ]
        },
        {
          "output_type": "stream",
          "name": "stdout",
          "text": [
            "\u001b[32;1m\u001b[1;3mDo I need to use a tool? Yes\n",
            "Action: bnss_procedure_search\n",
            "Action Input: What is the procedure for filing a report according to the BNSS?\u001b[0m\u001b[33;1m\u001b[1;3many, which are to be produced in evidence;\n",
            "Supply to\n",
            "accused of\n",
            "copy of police\n",
            "report and\n",
            "other\n",
            "documents.\n",
            "Supply of\n",
            "copies of\n",
            "statements\n",
            "and documents\n",
            "to accused in\n",
            "other cases\n",
            "triable by\n",
            "Court of\n",
            "Session.\n",
            "Commitment\n",
            "of case to Court\n",
            "of Session when\n",
            "offence is\n",
            "triable\n",
            "exclusively by\n",
            "it.\n",
            "Sec. 1]\n",
            "THE GAZETTE OF INDIA EXTRAORDINARY\n",
            "75\n",
            "___________________________________________________________\n",
            "__________________________________________________________\n",
            "__________________________________________________________\n",
            "__________________________________________________________\n",
            "__________________________________________________________\n",
            "__________________________________________________________\n",
            "\n",
            "of Session.\n",
            "Language of\n",
            "record of\n",
            "evidence.\n",
            "Procedure in\n",
            "regard to such\n",
            "evidence when\n",
            "completed.\n",
            "Sec. 1]\n",
            "THE GAZETTE OF INDIA EXTRAORDINARY\n",
            "95\n",
            "___________________________________________________________\n",
            "__________________________________________________________\n",
            "__________________________________________________________\n",
            "__________________________________________________________\n",
            "__________________________________________________________\n",
            "__________________________________________________________\n",
            "\n",
            "in certain\n",
            "cases.\n",
            "Procedure\n",
            "when\n",
            "corporation or\n",
            "registered\n",
            "society is an\n",
            "accused.\n",
            "21 of 1860.\n",
            "102\n",
            "THE GAZETTE OF INDIA EXTRAORDINARY\n",
            "[Part II— \n",
            "___________________________________________________________\n",
            "__________________________________________________________\n",
            "__________________________________________________________\n",
            "__________________________________________________________\n",
            "__________________________________________________________\n",
            "__________________________________________________________\u001b[0m"
          ]
        },
        {
          "output_type": "stream",
          "name": "stderr",
          "text": [
            "/usr/local/lib/python3.11/dist-packages/torch/nn/modules/module.py:1750: FutureWarning: `encoder_attention_mask` is deprecated and will be removed in version 4.55.0 for `BertSdpaSelfAttention.forward`.\n",
            "  return forward_call(*args, **kwargs)\n"
          ]
        },
        {
          "output_type": "stream",
          "name": "stdout",
          "text": [
            "\u001b[32;1m\u001b[1;3mThought: Do I need to use a tool? No\n",
            "Final Answer: According to the BNS, the punishment for assault can vary depending on the circumstances. For example, assaulting a public servant in the execution of their duty can lead to imprisonment of up to two years, or a fine, or both (Section 132). Assaulting someone with the intent to dishonor them can also lead to imprisonment of up to two years, or a fine, or both (Section 133). \n",
            "\n",
            "As for the procedure for filing a report according to the BNSS, it appears that the relevant sections are related to the supply of copies of police reports and other documents to the accused, commitment of cases to the Court of Session, and the language of record of evidence. However, the exact procedure is not clearly outlined in the provided text. It may be necessary to consult the full text of the BNSS or seek further clarification.\u001b[0m\n",
            "\n",
            "\u001b[1m> Finished chain.\u001b[0m\n",
            "\n",
            "--- FINAL SYNTHESIZED ANSWER ---\n",
            "According to the BNS, the punishment for assault can vary depending on the circumstances. For example, assaulting a public servant in the execution of their duty can lead to imprisonment of up to two years, or a fine, or both (Section 132). Assaulting someone with the intent to dishonor them can also lead to imprisonment of up to two years, or a fine, or both (Section 133). \n",
            "\n",
            "As for the procedure for filing a report according to the BNSS, it appears that the relevant sections are related to the supply of copies of police reports and other documents to the accused, commitment of cases to the Court of Session, and the language of record of evidence. However, the exact procedure is not clearly outlined in the provided text. It may be necessary to consult the full text of the BNSS or seek further clarification.\n"
          ]
        }
      ]
    },
    {
      "cell_type": "code",
      "source": [
        "# After your first response...\n",
        "# 1. Update the history with the last interaction\n",
        "chat_history.append(HumanMessage(content=query))\n",
        "chat_history.append(AIMessage(content=response[\"output\"]))\n",
        "\n",
        "# 2. Ask a follow-up question\n",
        "follow_up_query = \"Tell me more about the 'commitment of cases to the Court of Session' that you mentioned.\"\n",
        "\n",
        "# 3. Invoke the agent again with the UPDATED history\n",
        "response_2 = agent_executor.invoke({\n",
        "    \"input\": follow_up_query,\n",
        "    \"chat_history\": chat_history\n",
        "})\n",
        "\n",
        "print(response_2[\"output\"])"
      ],
      "metadata": {
        "colab": {
          "base_uri": "https://localhost:8080/"
        },
        "id": "PMl4zfad77oZ",
        "outputId": "be5d5064-aa00-4b42-b6df-31125b976d3c"
      },
      "execution_count": 40,
      "outputs": [
        {
          "output_type": "stream",
          "name": "stdout",
          "text": [
            "\n",
            "\n",
            "\u001b[1m> Entering new AgentExecutor chain...\u001b[0m\n",
            "\u001b[32;1m\u001b[1;3mThought: Do I need to use a tool? Yes\n",
            "Action: bnss_procedure_search\n",
            "Action Input: commitment of cases to the Court of Session\u001b[0m\u001b[33;1m\u001b[1;3mis of opinion that it will tend to the general convenience of the parties and witnesses to hold\n",
            "its sittings at any other place in the sessions division, it may, with the consent of the\n",
            "prosecution and the accused, sit at that place for the disposal of the case or the examination\n",
            "of any witness or witnesses therein.\n",
            "(7) The Sessions Judge may, from time to time, make orders consistent with this\n",
            "Sanhita, as to the distribution of business among such Additional Sessions Judges.\n",
            "(8) The Sessions Judge may also make provision for the disposal of any urgent\n",
            "application, in the event of his absence or inability to act, by an Additional Sessions Judge\n",
            "or if there be no Additional Sessions Judge, by the Chief Judicial Magistrate, and such\n",
            "Judge or Magistrate shall be deemed to have jurisdiction to deal with any such application.\n",
            "Explanation.—For the purposes of this Sanhita, \"appointment\" does not include the\n",
            "\n",
            "76\n",
            "(d) notify the Public Prosecutor of the commitment of the case to the Court of\n",
            "Session:\n",
            "Provided that the proceedings under this section shall be completed within a period\n",
            "of ninety days from the date of taking cognizance, and such period may be extended by the\n",
            "Magistrate for a period not exceeding one hundred and eighty days for the reasons to be\n",
            "recorded in writing:\n",
            "Provided further that any application filed before the Magistrate by the accused or\n",
            "the victim or any person authorised by such person in a case triable by Court of Session,\n",
            "shall be forwarded to the Court of Session with the committal of the case.\n",
            "233. (1) When in a case instituted otherwise than on a police report (hereinafter\n",
            "referred to as a complaint case), it is made to appear to the Magistrate, during the course of\n",
            "the inquiry or trial held by him, that an investigation by the police is in progress in relation\n",
            "to the offence which is the subject-matter of the inquiry or trial held by him, the Magistrate\n",
            "\n",
            "5\n",
            "(4) The Sessions Judge of one sessions division may be appointed by the High Court\n",
            "to be also an Additional Sessions Judge of another division, and in such case, he may sit for\n",
            "the disposal of cases at such place or places in the other division as the High Court may\n",
            "direct.\n",
            "(5) Where the office of the Sessions Judge is vacant, the High Court may make\n",
            "arrangements for the disposal of any urgent application which is, or may be, made or\n",
            "pending before such Court of Session by an Additional Sessions Judge or if there be no\n",
            "Additional Sessions Judge, by a Chief Judicial Magistrate, in the sessions division; and\n",
            "every such Judge or Magistrate shall have jurisdiction to deal with any such application.\n",
            "(6) The Court of Session shall ordinarily hold its sitting at such place or places as the\n",
            "High Court may, by notification, specify; but, if, in any particular case, the Court of Session\n",
            "is of opinion that it will tend to the general convenience of the parties and witnesses to hold\u001b[0m"
          ]
        },
        {
          "output_type": "stream",
          "name": "stderr",
          "text": [
            "/usr/local/lib/python3.11/dist-packages/torch/nn/modules/module.py:1750: FutureWarning: `encoder_attention_mask` is deprecated and will be removed in version 4.55.0 for `BertSdpaSelfAttention.forward`.\n",
            "  return forward_call(*args, **kwargs)\n"
          ]
        },
        {
          "output_type": "stream",
          "name": "stdout",
          "text": [
            "\u001b[32;1m\u001b[1;3mDo I need to use a tool? No\n",
            "Final Answer: According to the BNSS, the commitment of cases to the Court of Session involves the Sessions Judge making orders for the distribution of business among Additional Sessions Judges, and provision for the disposal of urgent applications in the event of the Sessions Judge's absence or inability to act. The Court of Session shall ordinarily hold its sittings at a specified place, but may sit at another place in the sessions division with the consent of the prosecution and the accused. Additionally, the Magistrate shall notify the Public Prosecutor of the commitment of the case to the Court of Session, and any application filed by the accused or victim shall be forwarded to the Court of Session with the committal of the case.\u001b[0m\n",
            "\n",
            "\u001b[1m> Finished chain.\u001b[0m\n",
            "According to the BNSS, the commitment of cases to the Court of Session involves the Sessions Judge making orders for the distribution of business among Additional Sessions Judges, and provision for the disposal of urgent applications in the event of the Sessions Judge's absence or inability to act. The Court of Session shall ordinarily hold its sittings at a specified place, but may sit at another place in the sessions division with the consent of the prosecution and the accused. Additionally, the Magistrate shall notify the Public Prosecutor of the commitment of the case to the Court of Session, and any application filed by the accused or victim shall be forwarded to the Court of Session with the committal of the case.\n"
          ]
        }
      ]
    }
  ]
}